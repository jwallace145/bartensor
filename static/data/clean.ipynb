{
 "cells": [
  {
   "cell_type": "code",
   "execution_count": 1,
   "metadata": {
    "scrolled": false
   },
   "outputs": [],
   "source": [
    "import json\n",
    "from os import listdir\n",
    "\n",
    "raw = open('all_drinks.csv').read()"
   ]
  },
  {
   "cell_type": "code",
   "execution_count": 2,
   "metadata": {},
   "outputs": [
    {
     "name": "stdout",
     "output_type": "stream",
     "text": [
      "0. \n",
      "1. strDrink\n",
      "2. dateModified\n",
      "3. idDrink\n",
      "4. strAlcoholic\n",
      "5. strCategory\n",
      "6. strDrinkThumb\n",
      "7. strGlass\n",
      "8. strIBA\n",
      "9. strIngredient1\n",
      "10. strIngredient10\n",
      "11. strIngredient11\n",
      "12. strIngredient12\n",
      "13. strIngredient13\n",
      "14. strIngredient14\n",
      "15. strIngredient15\n",
      "16. strIngredient2\n",
      "17. strIngredient3\n",
      "18. strIngredient4\n",
      "19. strIngredient5\n",
      "20. strIngredient6\n",
      "21. strIngredient7\n",
      "22. strIngredient8\n",
      "23. strIngredient9\n",
      "24. strInstructions\n",
      "25. strMeasure1\n",
      "26. strMeasure10\n",
      "27. strMeasure11\n",
      "28. strMeasure12\n",
      "29. strMeasure13\n",
      "30. strMeasure14\n",
      "31. strMeasure15\n",
      "32. strMeasure2\n",
      "33. strMeasure3\n",
      "34. strMeasure4\n",
      "35. strMeasure5\n",
      "36. strMeasure6\n",
      "37. strMeasure7\n",
      "38. strMeasure8\n",
      "39. strMeasure9\n",
      "40. strVideo\n"
     ]
    }
   ],
   "source": [
    "terms = []\n",
    "term = ''\n",
    "in_quote = False\n",
    "for i in range(len(raw)):\n",
    "    if (raw[i] == ',' or raw[i] == '\\n') and not in_quote:\n",
    "        terms.append(term)\n",
    "        term = ''\n",
    "    elif raw[i] == '\"':\n",
    "        in_quote = not in_quote\n",
    "    else:\n",
    "        term += raw[i]\n",
    "        \n",
    "for i in range(len(terms[:41])):\n",
    "    print('%d. %s' % (i, terms[i]))"
   ]
  },
  {
   "cell_type": "markdown",
   "metadata": {},
   "source": [
    "# Next steps\n",
    "\n",
    "1. Convert terms into json with \n",
    "    - names: list of strings\n",
    "    - ingredients: list of strings\n",
    "    - method: list of strings\n",
    "    - picture: string\n",
    "2. Load existing drinks\n",
    "3. Compare names\n",
    "4. Remove duplicates\n",
    "5. Save all drinks to drinks folder"
   ]
  },
  {
   "cell_type": "code",
   "execution_count": 10,
   "metadata": {
    "scrolled": false
   },
   "outputs": [],
   "source": [
    "class Drink:\n",
    "    def __init__(self, terms=None, filename=None):\n",
    "        if terms:\n",
    "            self.names = [terms[1]]\n",
    "            # join measures and ingredients\n",
    "            self.ingredients = [m + ' ' + i for m, i in zip(terms[25:40], terms[9:24])]\n",
    "            # remove any whitespace\n",
    "            self.ingredients = [i for i in map(lambda x: x.strip(), self.ingredients)]\n",
    "            # remove blanks\n",
    "            self.ingredients = [i for i in filter(lambda x: x != '', self.ingredients)]\n",
    "            # start with the glass, then add instructions\n",
    "            self.method = [terms[7]] + terms[24].split('.')\n",
    "            # some drinks have numbered instructions. Splitting on '.' puts the numbers at the end\n",
    "            # remove them\n",
    "            def clean(meth):\n",
    "                if len(meth) > 0:\n",
    "                    if meth[-1] in '123456789':\n",
    "                        meth = meth[:-1]\n",
    "                # strip whitespace and capitalize\n",
    "                return meth.strip().capitalize()\n",
    "            self.method = [m for m in map(clean, self.method)]\n",
    "            # remove any empty method strings\n",
    "            self.method = [i for i in filter(lambda x: x.strip() != '', self.method)]\n",
    "            # all drinks come with a thumbnail\n",
    "            self.picture = terms[6]\n",
    "        elif filename:\n",
    "            drink = json.load(open(filename))\n",
    "            self.names = drink['names']\n",
    "            self.ingredients = drink['ingredients']\n",
    "            self.method = drink['method']\n",
    "            self.picture = drink['picture']\n",
    "    \n",
    "    def __iter__(self):\n",
    "        yield 'names', self.names\n",
    "        yield 'ingredients', self.ingredients\n",
    "        yield 'method', self.method\n",
    "        yield 'picture', self.picture\n",
    "    \n",
    "    def save(self, filename):\n",
    "        with open(filename, 'w') as f:\n",
    "            f.write(json.dumps(dict(self), indent=4))       "
   ]
  },
  {
   "cell_type": "code",
   "execution_count": 11,
   "metadata": {},
   "outputs": [],
   "source": [
    "drinks = []\n",
    "\n",
    "for k in range(1, 547):\n",
    "    drink = terms[k*41:k*41+41]\n",
    "    drinks.append(Drink(terms=drink))\n",
    "    \n",
    "old_drinks = []\n",
    "for name in listdir('old/drinks'):\n",
    "    if name != '.DS_Store':\n",
    "        old_drinks.append(Drink(filename='old/drinks/' + name))"
   ]
  },
  {
   "cell_type": "code",
   "execution_count": 15,
   "metadata": {},
   "outputs": [],
   "source": [
    "# find drinks we have that cocktail db doesn't (i.e. sweaty mexican) and keep those\n",
    "missing = []\n",
    "for od in old_drinks:\n",
    "    found = False\n",
    "    for on in od.names:\n",
    "        for nd in drinks:\n",
    "            for nn in nd.names:\n",
    "                if nn.lower() == on.lower():\n",
    "                    found = True\n",
    "    if not found:\n",
    "        missing.append(od)\n",
    "\n",
    "drinks += missing"
   ]
  },
  {
   "cell_type": "code",
   "execution_count": 18,
   "metadata": {},
   "outputs": [],
   "source": [
    "for i in range(len(drinks)):\n",
    "    drinks[i].save('drinks/%d.json' % i)"
   ]
  }
 ],
 "metadata": {
  "kernelspec": {
   "display_name": "Python 3",
   "language": "python",
   "name": "python3"
  },
  "language_info": {
   "codemirror_mode": {
    "name": "ipython",
    "version": 3
   },
   "file_extension": ".py",
   "mimetype": "text/x-python",
   "name": "python",
   "nbconvert_exporter": "python",
   "pygments_lexer": "ipython3",
   "version": "3.6.7"
  }
 },
 "nbformat": 4,
 "nbformat_minor": 2
}

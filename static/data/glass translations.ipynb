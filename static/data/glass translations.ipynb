{
 "cells": [
  {
   "cell_type": "code",
   "execution_count": 1,
   "metadata": {},
   "outputs": [],
   "source": [
    "from ibm_watson import DiscoveryV1\n",
    "from ibm_cloud_sdk_core.authenticators import IAMAuthenticator\n",
    "\n",
    "environment_id = 'b7d1486c-2fdc-40c5-a2ce-2d78ec48fa76'\n",
    "collection_id = '7c11f329-5f31-4e59-aa63-fde1e91ff681'\n",
    "\n",
    "authenticator = IAMAuthenticator(open('secret.txt').read())\n",
    "discovery = DiscoveryV1(\n",
    "    version='2019-04-30',\n",
    "    authenticator=authenticator\n",
    ")\n",
    "discovery.set_service_url('https://api.us-south.discovery.watson.cloud.ibm.com/')"
   ]
  },
  {
   "cell_type": "code",
   "execution_count": 9,
   "metadata": {},
   "outputs": [],
   "source": [
    "results = discovery.query(environment_id, collection_id, query='', count=1001).result['results']"
   ]
  },
  {
   "cell_type": "code",
   "execution_count": 10,
   "metadata": {},
   "outputs": [
    {
     "name": "stdout",
     "output_type": "stream",
     "text": [
      "['Cocktail glass', 'Highball glass', 'Punch bowl', 'Pitcher', 'Shot glass', 'Hurricane glass', 'Beer mug', 'Brandy snifter', 'Wine glass', 'Pousse cafe glass', 'Coffee mug', 'Rocks glass', 'Mason jar', 'Beer pilsner', 'Champagne flute', 'Pint glass', 'Parfait glass', 'Beer glass', 'Irish coffee cup', 'White wine glass', 'Instruction3', 'Instruction2', 'Instruction4', 'Instruction1', 'Instruction0', 'Coupette glass', 'Collins glass', 'Cordial glass', 'Jar', 'Copper mug', 'Glass: Highball w/ice', 'Shake Ingredients in a Mixing Glass or Cocktail Shaker w/ice', 'Can be made either up (NEAT without ICE) or on the Rocks (ICE)', 'Mixing glass with Ice', 'Mixing glass with ice', 'Stir', 'Fill mixing glass w/ice', 'Garnish with a lime', 'Lemon Garnish', 'Shake and Pour', 'Lime Garnish', 'Top with Cranberry', 'Instruction8', 'Instruction9', 'Instruction5', 'Instruction6', 'Instruction7']\n"
     ]
    }
   ],
   "source": [
    "translations = {\n",
    "    'Old-fashioned glass': 'Rocks glass',\n",
    "    'Collins glass': 'Highball glass',\n",
    "    'Whiskey sour glass': 'Rocks glass',\n",
    "    'Margarita glass': 'Coupette glass',\n",
    "    'Margarita/coupette glass': 'Coupette glass',\n",
    "    'Martini glass': 'Cocktail glass',\n",
    "}\n",
    "unique = []\n",
    "for drink in results:\n",
    "    glass = drink['method'][0]\n",
    "    if glass not in unique:\n",
    "        unique.append(glass)\n",
    "print(unique)"
   ]
  },
  {
   "cell_type": "code",
   "execution_count": 7,
   "metadata": {
    "scrolled": true
   },
   "outputs": [
    {
     "name": "stdout",
     "output_type": "stream",
     "text": [
      "571 drinks\n"
     ]
    }
   ],
   "source": [
    "import json\n",
    "\n",
    "print('%d drinks' % len(results))\n",
    "i = 0\n",
    "for drink in results:\n",
    "    if drink['method'][0] in translations:\n",
    "        drink['method'][0] = translations[drink['method'][0]]\n",
    "        fileinfo = json.dumps(drink)\n",
    "        discovery.update_document(environment_id, collection_id, drink['id'], file=fileinfo, filename=str(i)+'.json')\n",
    "    i += 1\n",
    "    print(str(i) + '\\r', end='')"
   ]
  },
  {
   "cell_type": "code",
   "execution_count": 8,
   "metadata": {},
   "outputs": [
    {
     "name": "stdout",
     "output_type": "stream",
     "text": [
      "['Punch bowl', 'Highball glass', 'Shot glass', 'Champagne flute', 'White wine glass', 'Cocktail glass', 'Hurricane glass', 'Beer mug', 'Rocks glass', 'Beer pilsner', 'Coffee mug', 'Pitcher', 'Irish coffee cup', 'Pint glass', 'Pousse cafe glass', 'Coupette glass', 'Wine glass', 'Beer glass', 'Mason jar', 'Instruction3', 'Instruction2', 'Instruction4', 'Instruction1', 'Instruction0', 'Cordial glass', 'Jar', 'Brandy snifter', 'Copper mug', 'Glass: Highball w/ice', 'Shake Ingredients in a Mixing Glass or Cocktail Shaker w/ice', 'Can be made either up (NEAT without ICE) or on the Rocks (ICE)', 'Mixing glass with Ice', 'Mixing glass with ice', 'Stir', 'Fill mixing glass w/ice', 'Garnish with a lime', 'Lemon Garnish', 'Shake and Pour', 'Lime Garnish', 'Top with Cranberry', 'Parfait glass', 'Instruction5', 'Instruction6', 'Instruction7', 'Instruction8', 'Instruction9']\n"
     ]
    }
   ],
   "source": [
    "unique = []\n",
    "for drink in results:\n",
    "    glass = drink['method'][0]\n",
    "    if glass not in unique:\n",
    "        unique.append(glass)\n",
    "print(unique)"
   ]
  },
  {
   "cell_type": "markdown",
   "metadata": {},
   "source": [
    "# Delete specific drinks\n",
    "Chocolate Drink, TestDrink0, ..., TestDrink9, Rum & Coke -> Rum and Coke"
   ]
  },
  {
   "cell_type": "code",
   "execution_count": 11,
   "metadata": {},
   "outputs": [
    {
     "name": "stdout",
     "output_type": "stream",
     "text": [
      "Chocolate Drink\n",
      "TestDrink3\n",
      "TestDrink2\n",
      "TestDrink4\n",
      "TestDrink1\n",
      "TestDrink0\n",
      "Rum & Coke\n",
      "TestDrink8\n",
      "TestDrink9\n",
      "TestDrink5\n",
      "TestDrink6\n",
      "TestDrink7\n"
     ]
    }
   ],
   "source": [
    "for drink in results:\n",
    "    if drink['names'][0].lower() == 'chocolate drink':\n",
    "        print(drink['names'][0])\n",
    "        discovery.delete_document(environment_id, collection_id, drink['id'])\n",
    "    elif drink['names'][0].lower().startswith('testdrink'):\n",
    "        print(drink['names'][0])\n",
    "        discovery.delete_document(environment_id, collection_id, drink['id'])\n",
    "    elif drink['names'][0].lower() == 'rum & coke':\n",
    "        print(drink['names'][0])\n",
    "        drink['names'][0] = 'Rum and Coke'\n",
    "        fileinfo = json.dumps(drink)\n",
    "        discovery.update_document(environment_id, collection_id, drink['id'], file=fileinfo, filename='rumandcoke.json')"
   ]
  },
  {
   "cell_type": "code",
   "execution_count": 12,
   "metadata": {},
   "outputs": [
    {
     "name": "stdout",
     "output_type": "stream",
     "text": [
      "7\n",
      "Chocolate Beverage\n",
      "Holloween Punch\n",
      "Hot Chocolate to Die for\n",
      "Orange Scented Hot Chocolate\n",
      "Lassi - A South Indian Drink\n",
      "Drinking Chocolate\n",
      "Spanish chocolate\n"
     ]
    }
   ],
   "source": [
    "delete = ['drinking chocolate', 'chocolate beverage', 'spanish chocolate', 'hot chocolate to die for', 'orange scented hot chocolate', 'lassi - a south indian drink', 'holloween punch']\n",
    "print(len(delete))\n",
    "for drink in results:\n",
    "    if drink['names'][0].lower() in delete:\n",
    "        print(drink['names'][0])\n",
    "        discovery.delete_document(environment_id, collection_id, drink['id'])"
   ]
  },
  {
   "cell_type": "code",
   "execution_count": 13,
   "metadata": {},
   "outputs": [
    {
     "name": "stdout",
     "output_type": "stream",
     "text": [
      "4\n",
      "Castillian Hot Chocolate\n",
      "Egg Cream\n",
      "Just a Moonmint\n",
      "Nuked Hot Chocolate\n"
     ]
    }
   ],
   "source": [
    "delete = ['nuked hot chocolate', 'castillian hot chocolate', 'just a moonmint', 'egg cream']\n",
    "print(len(delete))\n",
    "for drink in results:\n",
    "    if drink['names'][0].lower() in delete:\n",
    "        print(drink['names'][0])\n",
    "        discovery.delete_document(environment_id, collection_id, drink['id'])"
   ]
  },
  {
   "cell_type": "code",
   "execution_count": null,
   "metadata": {},
   "outputs": [],
   "source": []
  }
 ],
 "metadata": {
  "kernelspec": {
   "display_name": "Python 3",
   "language": "python",
   "name": "python3"
  },
  "language_info": {
   "codemirror_mode": {
    "name": "ipython",
    "version": 3
   },
   "file_extension": ".py",
   "mimetype": "text/x-python",
   "name": "python",
   "nbconvert_exporter": "python",
   "pygments_lexer": "ipython3",
   "version": "3.6.7"
  }
 },
 "nbformat": 4,
 "nbformat_minor": 2
}

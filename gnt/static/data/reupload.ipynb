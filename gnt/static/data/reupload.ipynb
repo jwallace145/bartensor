{
 "cells": [
  {
   "cell_type": "markdown",
   "metadata": {},
   "source": [
    "# Delete all existing documents, reupload everything in drinks folder"
   ]
  },
  {
   "cell_type": "code",
   "execution_count": 31,
   "metadata": {},
   "outputs": [],
   "source": [
    "from os import listdir\n",
    "\n",
    "from ibm_watson import DiscoveryV1\n",
    "from ibm_cloud_sdk_core.authenticators import IAMAuthenticator\n",
    "\n",
    "environment_id = 'b7d1486c-2fdc-40c5-a2ce-2d78ec48fa76'\n",
    "collection_id = '7c11f329-5f31-4e59-aa63-fde1e91ff681'\n",
    "\n",
    "authenticator = IAMAuthenticator('Jc1KWt03zHYFzwvVf3_UVOyFpdagyO7P8GU-9ra9_8cy')\n",
    "discovery = DiscoveryV1(\n",
    "    version='2019-04-30',\n",
    "    authenticator=authenticator\n",
    ")\n",
    "discovery.set_service_url('https://api.us-south.discovery.watson.cloud.ibm.com/')"
   ]
  },
  {
   "cell_type": "code",
   "execution_count": 14,
   "metadata": {},
   "outputs": [],
   "source": [
    "results = discovery.query(environment_id, collection_id, query='', count=1001)"
   ]
  },
  {
   "cell_type": "code",
   "execution_count": 20,
   "metadata": {},
   "outputs": [
    {
     "name": "stdout",
     "output_type": "stream",
     "text": [
      "Deleting 36 existing drinks...\n"
     ]
    }
   ],
   "source": [
    "print('Deleting %d existing drinks...' % len(results.result['results']))\n",
    "for drink in results.result['results']:\n",
    "    discovery.delete_document(environment_id, collection_id, drink['id'])\n",
    "print('Done.')"
   ]
  },
  {
   "cell_type": "code",
   "execution_count": 35,
   "metadata": {},
   "outputs": [
    {
     "name": "stdout",
     "output_type": "stream",
     "text": [
      "Uploading 564 new drinks...\n",
      "563\r"
     ]
    }
   ],
   "source": [
    "# https://cloud.ibm.com/apidocs/discovery/discovery?code=python#add-a-document\n",
    "print('Uploading %d new drinks...' % len(listdir('drinks')))\n",
    "i = 1\n",
    "for name in listdir('drinks'):\n",
    "    print(i, end='\\r')\n",
    "    if name == '.DS_Store':\n",
    "        i += 1\n",
    "        continue\n",
    "    fileinfo = open('drinks/' + name).read()\n",
    "    discovery.add_document(environment_id, collection_id, file=fileinfo, filename=name)\n",
    "    i += 1"
   ]
  },
  {
   "cell_type": "code",
   "execution_count": null,
   "metadata": {},
   "outputs": [],
   "source": []
  }
 ],
 "metadata": {
  "kernelspec": {
   "display_name": "Python 3",
   "language": "python",
   "name": "python3"
  },
  "language_info": {
   "codemirror_mode": {
    "name": "ipython",
    "version": 3
   },
   "file_extension": ".py",
   "mimetype": "text/x-python",
   "name": "python",
   "nbconvert_exporter": "python",
   "pygments_lexer": "ipython3",
   "version": "3.6.7"
  }
 },
 "nbformat": 4,
 "nbformat_minor": 2
}
